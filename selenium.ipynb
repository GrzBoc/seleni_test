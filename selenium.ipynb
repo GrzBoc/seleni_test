{
 "cells": [
  {
   "cell_type": "code",
   "execution_count": 1,
   "id": "d9288676",
   "metadata": {
    "ExecuteTime": {
     "end_time": "2023-06-24T05:37:23.057127Z",
     "start_time": "2023-06-24T05:37:22.871079Z"
    }
   },
   "outputs": [],
   "source": [
    "from selenium import webdriver\n",
    "from selenium.webdriver.common.desired_capabilities import DesiredCapabilities\n",
    "from selenium.webdriver.common.log import Log\n",
    "from selenium.webdriver.chrome.options import Options\n",
    "import time\n",
    "import json\n",
    "#import trio"
   ]
  },
  {
   "cell_type": "code",
   "execution_count": 2,
   "id": "ead31934",
   "metadata": {
    "ExecuteTime": {
     "end_time": "2023-06-24T05:37:29.998005Z",
     "start_time": "2023-06-24T05:37:25.959859Z"
    }
   },
   "outputs": [
    {
     "name": "stdout",
     "output_type": "stream",
     "text": [
      "{'level': 'SEVERE', 'message': \"https://wyborcza.pl/0,0.html 1061:56 Uncaught SyntaxError: Unexpected token ';'\", 'source': 'javascript', 'timestamp': 1687585048407}\n",
      "{'level': 'SEVERE', 'message': 'https://wyborcza.pl/0,0.html 1069:4 Uncaught ReferenceError: domain_marketing is not defined', 'source': 'javascript', 'timestamp': 1687585048407}\n",
      "{'level': 'WARNING', 'message': 'https://bis.gazeta.pl/info/mapa2.js 4 A parser-blocking, cross site (i.e. different eTLD+1) script, https://gazeta.hit.gemius.pl/hmapxy.js, is invoked via document.write. The network request for this script MAY be blocked by the browser in this or a future page load due to poor network connectivity. If blocked in this page load, it will be confirmed in a subsequent console message. See https://www.chromestatus.com/feature/5718547946799104 for more details.', 'source': 'javascript', 'timestamp': 1687585048668}\n",
      "{'level': 'WARNING', 'message': 'https://bis.gazeta.pl/info/mapa2.js 4 A parser-blocking, cross site (i.e. different eTLD+1) script, https://gazeta.hit.gemius.pl/hmapxy.js, is invoked via document.write. The network request for this script MAY be blocked by the browser in this or a future page load due to poor network connectivity. If blocked in this page load, it will be confirmed in a subsequent console message. See https://www.chromestatus.com/feature/5718547946799104 for more details.', 'source': 'javascript', 'timestamp': 1687585048668}\n"
     ]
    }
   ],
   "source": [
    "\n",
    "# Set Chrome options\n",
    "chrome_options = Options()\n",
    "\n",
    "# Enable browser logging\n",
    "chrome_options.add_argument(\"--log-level=ALL\")\n",
    "\n",
    "# Create ChromeDriver instance\n",
    "driver = webdriver.Chrome(options=chrome_options)\n",
    "\n",
    "# Load a website\n",
    "driver.get('https://wyborcza.pl/0,0.html')\n",
    "\n",
    "# Print messages\n",
    "for entry in driver.get_log('browser'):\n",
    "    print(entry)"
   ]
  },
  {
   "cell_type": "code",
   "execution_count": 32,
   "id": "d1fedb82",
   "metadata": {
    "ExecuteTime": {
     "end_time": "2023-06-23T05:59:09.910765Z",
     "start_time": "2023-06-23T05:58:34.428553Z"
    }
   },
   "outputs": [
    {
     "name": "stdout",
     "output_type": "stream",
     "text": [
      "javascript https://wyborcza.pl/0,0.html 1061:56 Uncaught SyntaxError: Unexpected token ';'\n",
      "javascript https://wyborcza.pl/0,0.html 1069:4 Uncaught ReferenceError: domain_marketing is not defined\n",
      "console-api https://static.im-g.pl/wpc/frontend/portal-core-79/dist/desktop/ads/preload.74711296804972b7e04a.js 0:1483 \"%cAdsSlots\" \"color: #fed049\" \"nodes found: 0\"\n",
      "console-api https://static.im-g.pl/wpc/frontend/portal-core-79/dist/desktop/ads/preload.74711296804972b7e04a.js 0:1741 \"%cAdsSlots\" \"color: #fed049\" \"slots found: 0\"\n",
      "console-api https://static.im-g.pl/wpc/frontend/portal-core-79/dist/desktop/ads/preload.74711296804972b7e04a.js 0:1974 \"%cAdsSlots\" \"color: #fed049\" \"all slots ready\"\n",
      "console-api https://static.im-g.pl/wpc/frontend/portal-core-79/dist/desktop/read-later/preload.7b4f037590f40055ba0e.js 0:12144 \"%cReadLater\" \"color: #faa\" \"starting\"\n",
      "javascript https://bis.gazeta.pl/info/mapa2.js 4 A parser-blocking, cross site (i.e. different eTLD+1) script, https://gazeta.hit.gemius.pl/hmapxy.js, is invoked via document.write. The network request for this script MAY be blocked by the browser in this or a future page load due to poor network connectivity. If blocked in this page load, it will be confirmed in a subsequent console message. See https://www.chromestatus.com/feature/5718547946799104 for more details.\n",
      "javascript https://bis.gazeta.pl/info/mapa2.js 4 A parser-blocking, cross site (i.e. different eTLD+1) script, https://gazeta.hit.gemius.pl/hmapxy.js, is invoked via document.write. The network request for this script MAY be blocked by the browser in this or a future page load due to poor network connectivity. If blocked in this page load, it will be confirmed in a subsequent console message. See https://www.chromestatus.com/feature/5718547946799104 for more details.\n",
      "console-api https://biv.gazeta.pl/static/front/ot-iab-consent/master/ot-fix.js?v27 183:16 \"%c window.AG.rodoAccepted -1\" \"color: green\"\n",
      "console-api https://static.im-g.pl/wpc/frontend/portal-core-79/dist/desktop/ads/preload.74711296804972b7e04a.js 0:1483 \"%cAdsSlots\" \"color: #fed049\" \"nodes found: 3\"\n",
      "console-api https://static.im-g.pl/wpc/frontend/portal-core-79/dist/desktop/ads/preload.74711296804972b7e04a.js 0:1741 \"%cAdsSlots\" \"color: #fed049\" \"slots found: 1\"\n",
      "console-api https://static.im-g.pl/wpc/frontend/portal-core-79/dist/desktop/ads/preload.74711296804972b7e04a.js 0:1974 \"%cAdsSlots\" \"color: #fed049\" \"all slots ready\"\n",
      "console-api https://static.im-g.pl/wpc/frontend/portal-core-79/dist/desktop/read-later/preload.7b4f037590f40055ba0e.js 0:12144 \"%cReadLater\" \"color: #faa\" \"starting\"\n",
      "console-api https://biv.gazeta.pl/static/front/ot-iab-consent/master/ot-fix.js?v27 183:16 \"%c window.AG.rodoAccepted -1\" \"color: green\"\n",
      "console-api https://static.im-g.pl/wpc/frontend/harmony-marketing-client-295/dist/marketing-client.78c3c717.js 141:2206 \"Successfully downloaded actions from domain\"\n",
      "console-api https://static.im-g.pl/wpc/frontend/portal-core-79/dist/desktop/social-media-login/preload.014323f04fb7db788352.js 0:1115 \"Google: Nie udało się wczytać SDK.\"\n",
      "console-api https://biv.gazeta.pl/static/front/ot-iab-consent/master/ot-fix.js?v27 183:16 \"%c window.AG.rodoAccepted 1\" \"color: green\"\n",
      "console-api https://wyborcza.pl/7,75398,29897489,supersobota-polityczna-tusk-kontra-kaczynski-proba-odbicia.html 1039:24 \"Google refresh\"\n",
      "console-api https://cdn.cookielaw.org/opt-out/otCCPAiab.js 95:26 \"received a request for uspapi\"\n",
      "console-api https://cdn.cookielaw.org/opt-out/otCCPAiab.js 95:26 \"received a request for uspapi\"\n",
      "console-api https://cdn.cookielaw.org/opt-out/otCCPAiab.js 95:26 \"received a request for uspapi\"\n",
      "console-api https://cdn.cookielaw.org/opt-out/otCCPAiab.js 95:26 \"received a request for uspapi\"\n",
      "console-api https://cdn.cookielaw.org/opt-out/otCCPAiab.js 95:26 \"received a request for uspapi\"\n",
      "console-api https://cdn.cookielaw.org/opt-out/otCCPAiab.js 95:26 \"received a request for uspapi\"\n",
      "console-api https://cdn.cookielaw.org/opt-out/otCCPAiab.js 95:26 \"received a request for uspapi\"\n"
     ]
    }
   ],
   "source": [
    "import time\n",
    "from selenium import webdriver\n",
    "from selenium.webdriver.chrome.options import Options\n",
    "\n",
    "# Set Chrome options\n",
    "chrome_options = Options()\n",
    "\n",
    "# Enable browser logging\n",
    "chrome_options.add_argument(\"--enable-logging\")\n",
    "chrome_options.add_argument(\"--log-level=0\")\n",
    "\n",
    "# Set logging preferences to capture network logs\n",
    "chrome_prefs = {\n",
    "    'browser': 'ALL',\n",
    "    'goog:loggingPrefs': {\n",
    "        'performance': 'ALL'\n",
    "    }\n",
    "}\n",
    "chrome_options.add_experimental_option('prefs', chrome_prefs)\n",
    "\n",
    "# Create ChromeDriver instance\n",
    "driver = webdriver.Chrome(options=chrome_options)\n",
    "\n",
    "# Load a website\n",
    "driver.get('https://wyborcza.pl/0,0.html')\n",
    "start_time = time.time()\n",
    "\n",
    "# Collect logs for 30 seconds\n",
    "while time.time() - start_time < 30:\n",
    "    logs = driver.get_log('browser')\n",
    "    for log in logs:\n",
    "        message = log['message']\n",
    "        print(log['source'],message)\n",
    "        \n",
    "        \n",
    "# while time.time() - start_time < 30:\n",
    "#     logs = driver.get_log('performance') #nie działa \n",
    "#     for log in logs:\n",
    "#         message = log['message']\n",
    "#         if 'Network.requestWillBeSent' in message:\n",
    "#             if 'request' in message:\n",
    "#                 request = log['message']['params']['request']\n",
    "#                 if request['method'] == 'POST' or request['method'] == 'GET':\n",
    "#                     print(message)\n",
    "        \n",
    "        \n",
    "# Close the browser\n",
    "driver.quit()"
   ]
  },
  {
   "cell_type": "code",
   "execution_count": 25,
   "id": "0e2008f5",
   "metadata": {
    "ExecuteTime": {
     "end_time": "2023-06-23T05:53:21.404758Z",
     "start_time": "2023-06-23T05:53:21.396436Z"
    },
    "scrolled": false
   },
   "outputs": [
    {
     "data": {
      "text/plain": [
       "{'level': 'INFO',\n",
       " 'message': 'https://cdn.ampproject.org/rtv/012305252018000/amp4ads-v0.mjs 1:225973 \"Powered by AMP ⚡ HTML – Version 2305252018000\" \"https://wyborcza.pl/0,177851.html\"',\n",
       " 'source': 'console-api',\n",
       " 'timestamp': 1687499561403}"
      ]
     },
     "execution_count": 25,
     "metadata": {},
     "output_type": "execute_result"
    }
   ],
   "source": [
    "log"
   ]
  },
  {
   "cell_type": "markdown",
   "id": "45e7d343",
   "metadata": {},
   "source": [
    "### Post / get requests"
   ]
  },
  {
   "cell_type": "code",
   "execution_count": 5,
   "id": "34d97b5f",
   "metadata": {
    "ExecuteTime": {
     "end_time": "2023-06-24T05:47:12.862120Z",
     "start_time": "2023-06-24T05:47:12.842137Z"
    }
   },
   "outputs": [],
   "source": [
    "from selenium import webdriver\n",
    "from selenium.webdriver.common.by import By\n",
    "from selenium.webdriver.support.ui import WebDriverWait\n",
    "from selenium.webdriver.support import expected_conditions as EC\n",
    "import requests\n",
    "import time\n",
    "import json"
   ]
  },
  {
   "cell_type": "code",
   "execution_count": 19,
   "id": "7f1f46e9",
   "metadata": {
    "ExecuteTime": {
     "end_time": "2023-06-24T06:18:48.998986Z",
     "start_time": "2023-06-24T06:18:07.996731Z"
    },
    "scrolled": false
   },
   "outputs": [],
   "source": [
    "driver = webdriver.Chrome()\n",
    "driver.get('https://wyborcza.pl/0,0.html')\n",
    "\n",
    "start_time=time.time()\n",
    "end_time=start_time+30\n",
    "\n",
    "# Collect requests during the specified duration\n",
    "while time.time() < end_time:\n",
    "#     # Collect POST requests\n",
    "#     post_requests = driver.execute_script(\"\"\"\n",
    "#         let performanceEntries = performance.getEntriesByType('navigation');\n",
    "#         let entries = [];\n",
    "\n",
    "#         for (let entry of performanceEntries) {\n",
    "#             if (entry.initiatorType === 'xmlhttprequest' && entry.transferSize > 0) {\n",
    "#                 entries.push(entry);\n",
    "#             }\n",
    "#         }\n",
    "\n",
    "#         return entries;\n",
    "#     \"\"\")\n",
    "    # Collect POST requests\n",
    "    post_requests = driver.execute_script(\"\"\"\n",
    "        let entries = performance.getEntriesByType('resource');\n",
    "        let postRequests = [];\n",
    "\n",
    "        for (let entry of entries) {\n",
    "            if (entry.initiatorType === 'xmlhttprequest' && entry.transferSize > 0 && entry.nextHopProtocol === 'http/1.1') {\n",
    "                if (entry.name.startsWith('http://') || entry.name.startsWith('https://')) {\n",
    "                    postRequests.push(entry);\n",
    "                }\n",
    "            }\n",
    "        }\n",
    "\n",
    "        return postRequests;\n",
    "    \"\"\")\n",
    "    get_requests = driver.execute_script(\"\"\"\n",
    "        let performanceEntries = performance.getEntriesByType('resource');\n",
    "        let entries = [];\n",
    "\n",
    "        for (let entry of performanceEntries) {\n",
    "            if (entry.initiatorType === 'xmlhttprequest' && entry.transferSize > 0) {\n",
    "                entries.push(entry);\n",
    "            }\n",
    "        }\n",
    "\n",
    "        return entries;\n",
    "    \"\"\")   \n",
    "\n",
    "    # Extract POST request details, payload, and headers\n",
    "    for request in post_requests:\n",
    "        request_url = request.get('name')\n",
    "        request_method = 'POST'\n",
    "        request_body_size =  request.get('transferSize')\n",
    "        print(f\"POST Request URL: {request_url}\")\n",
    "        print(f\"Request Method: {request_method}\")\n",
    "        print(f\"Request Body Size: {request_body_size} bytes\")\n",
    "\n",
    "        # Get the request payload\n",
    "        request_payload = driver.execute_script(f\"\"\"\n",
    "            let entries = performance.getEntriesByName('{request_url}');\n",
    "            let payload = null;\n",
    "\n",
    "            if (entries.length > 0) {{\n",
    "                payload = entries[0].requestPayload;\n",
    "            }}\n",
    "\n",
    "            return payload;\n",
    "        \"\"\")\n",
    "\n",
    "        if request_payload:\n",
    "            print(f\"Request Payload: {request_payload}\")\n",
    "\n",
    "        # Get the request headers\n",
    "        request_headers = driver.execute_script(f\"\"\"\n",
    "            let entries = performance.getEntriesByName('{request_url}');\n",
    "            let headers = null;\n",
    "\n",
    "            if (entries.length > 0) {{\n",
    "                headers = entries[0].requestHeaders;\n",
    "            }}\n",
    "\n",
    "            return headers;\n",
    "        \"\"\")\n",
    "\n",
    "        if request_headers:\n",
    "            print(\"Request Headers:\")\n",
    "            for header_name, header_value in request_headers.items():\n",
    "                print(f\"{header_name}: {header_value}\")\n",
    "\n",
    "        print(\"----------\")\n",
    "\n",
    "\n",
    "#     # Extract GET request details\n",
    "#     for request in get_requests:\n",
    "#         request_url = request.get('name')\n",
    "#         request_method = 'GET'\n",
    "#         request_body_size = request.get('transferSize')\n",
    "#         print(f\"GET Request URL: {request_url}\")\n",
    "#         print(f\"Request Method: {request_method}\")\n",
    "#         print(f\"Request Body Size: {request_body_size} bytes\")\n",
    "#         print(\"----------\")\n",
    "\n",
    "    # Wait for a short interval before collecting requests again\n",
    "    time.sleep(1)\n",
    "\n",
    "# Close the Selenium webdriver\n",
    "driver.quit()"
   ]
  },
  {
   "cell_type": "code",
   "execution_count": 20,
   "id": "23f48119",
   "metadata": {
    "ExecuteTime": {
     "end_time": "2023-06-24T06:24:05.375165Z",
     "start_time": "2023-06-24T06:23:43.678801Z"
    }
   },
   "outputs": [],
   "source": [
    "import time\n",
    "from selenium import webdriver\n",
    "\n",
    "# Set up the Selenium webdriver\n",
    "driver = webdriver.Chrome()  # Replace with the appropriate webdriver for your browser\n",
    "\n",
    "# Perform necessary actions to interact with the web application\n",
    "driver.get('https://wyborcza.pl/0,0.html')  # Replace with the URL of the web application\n",
    "\n",
    "# Wait for the page to load and any network requests to occur\n",
    "time.sleep(15)  # Adjust the duration as needed\n",
    "\n",
    "# Get the network requests captured by the browser developer tools\n",
    "network_requests = driver.execute_script(\"\"\"\n",
    "    var performanceEntries = window.performance.getEntries();\n",
    "    var requests = [];\n",
    "\n",
    "    for (var i = 0; i < performanceEntries.length; i++) {\n",
    "        var entry = performanceEntries[i];\n",
    "        if (entry.initiatorType === 'xmlhttprequest' && entry.transferSize > 0) {\n",
    "            requests.push(entry);\n",
    "        }\n",
    "    }\n",
    "\n",
    "    return requests;\n",
    "\"\"\")\n",
    "\n",
    "# Extract POST request details\n",
    "for request in network_requests:\n",
    "    request_url = request.get('name')\n",
    "    request_method = 'POST'\n",
    "    request_body_size =  request.get('transferSize')\n",
    "    print(f\"POST Request URL: {request_url}\")\n",
    "    print(f\"Request Method: {request_method}\")\n",
    "    print(f\"Request Body Size: {request_body_size} bytes\")\n",
    "    print(\"----------\")\n",
    "\n",
    "# Close the Selenium webdriver\n",
    "driver.quit()"
   ]
  },
  {
   "cell_type": "code",
   "execution_count": null,
   "id": "dbe8b694",
   "metadata": {},
   "outputs": [],
   "source": []
  },
  {
   "cell_type": "code",
   "execution_count": 22,
   "id": "8b234b26",
   "metadata": {
    "ExecuteTime": {
     "end_time": "2023-06-24T06:24:54.041526Z",
     "start_time": "2023-06-24T06:24:54.033448Z"
    },
    "scrolled": true
   },
   "outputs": [
    {
     "data": {
      "text/plain": [
       "[]"
      ]
     },
     "execution_count": 22,
     "metadata": {},
     "output_type": "execute_result"
    }
   ],
   "source": [
    "network_requests"
   ]
  },
  {
   "cell_type": "markdown",
   "id": "0db78222",
   "metadata": {},
   "source": [
    "### Tak jak w postman"
   ]
  },
  {
   "cell_type": "code",
   "execution_count": null,
   "id": "d190c0e2",
   "metadata": {},
   "outputs": [],
   "source": [
    "import requests\n",
    "\n",
    "# Step 1: Obtain an access token\n",
    "auth_endpoint = 'http://keycloak.example.com/auth/realms/{realm}/protocol/openid-connect/token'\n",
    "\n",
    "auth_data = {\n",
    "    'grant_type': 'password',\n",
    "    'client_id': 'your_client_id',\n",
    "    'username': 'your_username',\n",
    "    'password': 'your_password'\n",
    "}\n",
    "\n",
    "response = requests.post(auth_endpoint, data=auth_data)\n",
    "response_data = response.json()\n",
    "access_token = response_data['access_token']\n",
    "\n",
    "# Step 2: Set up headers for subsequent requests\n",
    "headers = {\n",
    "    'Authorization': f'Bearer {access_token}',\n",
    "    'Content-Type': 'application/json'\n",
    "}\n",
    "\n",
    "# Step 3: Navigate to the web page\n",
    "web_page_url = 'http://example.com/protected-page'\n",
    "response = requests.get(web_page_url, headers=headers)\n",
    "\n",
    "# Step 4: Send a specific POST request\n",
    "post_url = 'http://example.com/api/endpoint'\n",
    "post_data = {\n",
    "    'key1': 'value1',\n",
    "    'key2': 'value2'\n",
    "}\n",
    "\n",
    "response = requests.post(post_url, json=post_data, headers=headers)\n",
    "\n",
    "# Step 5: Process the response\n",
    "print(response.status_code)\n",
    "print(response.text)"
   ]
  },
  {
   "cell_type": "markdown",
   "id": "838738f0",
   "metadata": {},
   "source": [
    "In the above code:\n",
    "\n",
    "Step 1 performs the authentication request to obtain an access token from the Keycloak server.\n",
    "\n",
    "Step 2 sets up the headers for subsequent requests, including the access token for authentication.\n",
    "\n",
    "Step 3 uses requests.get() to navigate to the web page that requires Keycloak authentication.\n",
    "\n",
    "Step 4 sends a specific POST request to the desired endpoint.\n",
    "\n",
    "Step 5 processes the response from the POST request.\n",
    "\n",
    "Make sure to replace the placeholders {realm}, your_client_id, your_username, your_password, http://example.com/protected-page, and http://example.com/api/endpoint with the actual values corresponding to your Keycloak setup and the target web page and API endpoint.\n",
    "\n",
    "You may need to customize the request parameters, headers, and body according to the requirements of the specific web page and API you are interacting with."
   ]
  },
  {
   "cell_type": "markdown",
   "id": "10a6be2b",
   "metadata": {},
   "source": [
    "Yes, you can perform the navigation and POST request in headless mode using Python and the requests library. However, please note that the requests library alone cannot execute JavaScript or interact with dynamic elements on a web page. If the web page relies heavily on JavaScript or requires user interaction, you may need to consider using a browser automation tool like Selenium.\n",
    "\n",
    "Here's an example of performing the navigation and POST request in headless mode using the requests library:"
   ]
  },
  {
   "cell_type": "code",
   "execution_count": null,
   "id": "91b8ed70",
   "metadata": {
    "hide_input": true
   },
   "outputs": [],
   "source": [
    "import requests\n",
    "from selenium import webdriver\n",
    "from selenium.webdriver.chrome.options import Options\n",
    "\n",
    "# Step 1: Set up Chrome options for headless browsing\n",
    "chrome_options = Options()\n",
    "chrome_options.add_argument('--headless')  # Run Chrome in headless mode\n",
    "chrome_options.add_argument('--no-sandbox')\n",
    "chrome_options.add_argument('--disable-dev-shm-usage')\n",
    "\n",
    "# Step 2: Create a new Chrome driver instance\n",
    "driver = webdriver.Chrome(options=chrome_options)\n",
    "\n",
    "# Step 3: Obtain an access token\n",
    "auth_endpoint = 'http://keycloak.example.com/auth/realms/{realm}/protocol/openid-connect/token'\n",
    "\n",
    "auth_data = {\n",
    "    'grant_type': 'password',\n",
    "    'client_id': 'your_client_id',\n",
    "    'username': 'your_username',\n",
    "    'password': 'your_password'\n",
    "}\n",
    "\n",
    "response = requests.post(auth_endpoint, data=auth_data)\n",
    "response_data = response.json()\n",
    "access_token = response_data['access_token']\n",
    "\n",
    "# Step 4: Set up headers for subsequent requests\n",
    "headers = {\n",
    "    'Authorization': f'Bearer {access_token}',\n",
    "    'Content-Type': 'application/json'\n",
    "}\n",
    "\n",
    "# Step 5: Navigate to the web page\n",
    "web_page_url = 'http://example.com/protected-page'\n",
    "driver.get(web_page_url)\n",
    "\n",
    "# Step 6: Send a specific POST request\n",
    "post_url = 'http://example.com/api/endpoint'\n",
    "post_data = {\n",
    "    'key1': 'value1',\n",
    "    'key2': 'value2'\n",
    "}\n",
    "\n",
    "response = requests.post(post_url, json=post_data, headers=headers)\n",
    "\n",
    "# Step 7: Process the response\n",
    "print(response.status_code)\n",
    "print(response.text)\n",
    "\n",
    "# Step 8: Close the Chrome driver\n",
    "driver.quit()\n"
   ]
  },
  {
   "cell_type": "code",
   "execution_count": null,
   "id": "4e5f286a",
   "metadata": {},
   "outputs": [],
   "source": []
  },
  {
   "cell_type": "markdown",
   "id": "caafa545",
   "metadata": {},
   "source": [
    "In this example, we use Selenium WebDriver to launch a headless Chrome browser. The browser is then used to navigate to the web page. After the navigation is complete, we use the requests library to send the POST request.\n",
    "\n",
    "Make sure to install the required packages by running pip install selenium before running the code.\n",
    "\n",
    "Remember to replace the placeholders {realm}, your_client_id, your_username, your_password, http://example.com/protected-page, and http://example.com/api/endpoint with the actual values for your Keycloak setup and the target web page and API endpoint.\n",
    "\n",
    "Note that using browser automation tools like Selenium allows for more dynamic interactions with web pages but may require additional setup and resources compared to simple requests with the requests library."
   ]
  },
  {
   "cell_type": "markdown",
   "id": "9e446937",
   "metadata": {},
   "source": [
    "### z serverem proxy"
   ]
  },
  {
   "cell_type": "code",
   "execution_count": 1,
   "id": "cc104361",
   "metadata": {
    "ExecuteTime": {
     "end_time": "2023-06-26T17:58:26.060425Z",
     "start_time": "2023-06-26T17:58:25.499979Z"
    }
   },
   "outputs": [
    {
     "ename": "ModuleNotFoundError",
     "evalue": "No module named 'keycloak'",
     "output_type": "error",
     "traceback": [
      "\u001b[1;31m---------------------------------------------------------------------------\u001b[0m",
      "\u001b[1;31mModuleNotFoundError\u001b[0m                       Traceback (most recent call last)",
      "Input \u001b[1;32mIn [1]\u001b[0m, in \u001b[0;36m<cell line: 5>\u001b[1;34m()\u001b[0m\n\u001b[0;32m      3\u001b[0m \u001b[38;5;28;01mimport\u001b[39;00m \u001b[38;5;21;01msocketserver\u001b[39;00m\n\u001b[0;32m      4\u001b[0m \u001b[38;5;28;01mimport\u001b[39;00m \u001b[38;5;21;01murllib\u001b[39;00m\u001b[38;5;21;01m.\u001b[39;00m\u001b[38;5;21;01mparse\u001b[39;00m\n\u001b[1;32m----> 5\u001b[0m \u001b[38;5;28;01mfrom\u001b[39;00m \u001b[38;5;21;01mkeycloak\u001b[39;00m \u001b[38;5;28;01mimport\u001b[39;00m KeycloakOpenID\n\u001b[0;32m      6\u001b[0m \u001b[38;5;28;01mfrom\u001b[39;00m \u001b[38;5;21;01mkeycloak\u001b[39;00m\u001b[38;5;21;01m.\u001b[39;00m\u001b[38;5;21;01mexceptions\u001b[39;00m \u001b[38;5;28;01mimport\u001b[39;00m KeycloakAuthenticationError\n\u001b[0;32m      8\u001b[0m \u001b[38;5;66;03m# Define the handler for the HTTP server\u001b[39;00m\n",
      "\u001b[1;31mModuleNotFoundError\u001b[0m: No module named 'keycloak'"
     ]
    }
   ],
   "source": [
    "import requests\n",
    "import http.server\n",
    "import socketserver\n",
    "import urllib.parse\n",
    "from keycloak import KeycloakOpenID\n",
    "from keycloak.exceptions import KeycloakAuthenticationError\n",
    "\n",
    "# Define the handler for the HTTP server\n",
    "class RedirectHandler(http.server.SimpleHTTPRequestHandler):\n",
    "    def do_GET(self):\n",
    "        # Extract the authorization code from the query parameters\n",
    "        query_params = urllib.parse.parse_qs(urllib.parse.urlparse(self.path).query)\n",
    "        authorization_code = query_params.get('code', [None])[0]\n",
    "\n",
    "        # Print the authorization code\n",
    "        if authorization_code:\n",
    "            print(\"Authorization code:\", authorization_code)\n",
    "            # Exchange the authorization code for an access token\n",
    "            token = keycloak_openid.token('http://localhost:8080/callback', code=authorization_code, grant_type='authorization_code')\n",
    "            access_token = token['access_token']\n",
    "            print(\"Access token:\", access_token)\n",
    "        else:\n",
    "            print(\"Authorization code not found.\")\n",
    "\n",
    "        # Send a response back to the browser\n",
    "        self.send_response(200)\n",
    "        self.send_header('Content-type', 'text/html')\n",
    "        self.end_headers()\n",
    "        self.wfile.write(b'Authorization code received. You can close this window.')\n",
    "\n",
    "# Set up the Keycloak client\n",
    "keycloak_url = 'https://keycloak.example.com/auth/'\n",
    "realm_name = 'your_realm'\n",
    "client_id = 'your_client_id'\n",
    "keycloak_openid = KeycloakOpenID(server_url=keycloak_url, client_id=client_id, realm_name=realm_name)\n",
    "\n",
    "# Start the local HTTP server to listen for the redirect URI\n",
    "with socketserver.TCPServer(('localhost', 8080), RedirectHandler) as httpd:\n",
    "    print(\"Local HTTP server started at http://localhost:8080/\")\n",
    "\n",
    "    # Get the authorization URL\n",
    "    auth_url = keycloak_openid.authorization_url(redirect_uri='http://localhost:8080/callback', pkce=True)\n",
    "\n",
    "    # Open the authorization URL in a web browser\n",
    "    import webbrowser\n",
    "    webbrowser.open(auth_url)\n",
    "\n",
    "    # Wait for the authorization code to be received\n",
    "    httpd.handle_request()"
   ]
  },
  {
   "cell_type": "code",
   "execution_count": null,
   "id": "dd6779db",
   "metadata": {},
   "outputs": [],
   "source": []
  }
 ],
 "metadata": {
  "hide_input": false,
  "kernelspec": {
   "display_name": "Python 3 (ipykernel)",
   "language": "python",
   "name": "python3"
  },
  "language_info": {
   "codemirror_mode": {
    "name": "ipython",
    "version": 3
   },
   "file_extension": ".py",
   "mimetype": "text/x-python",
   "name": "python",
   "nbconvert_exporter": "python",
   "pygments_lexer": "ipython3",
   "version": "3.9.4"
  },
  "toc": {
   "base_numbering": 1,
   "nav_menu": {},
   "number_sections": true,
   "sideBar": false,
   "skip_h1_title": false,
   "title_cell": "Table of Contents",
   "title_sidebar": "Contents",
   "toc_cell": false,
   "toc_position": {},
   "toc_section_display": true,
   "toc_window_display": false
  },
  "varInspector": {
   "cols": {
    "lenName": 16,
    "lenType": 16,
    "lenVar": 40
   },
   "kernels_config": {
    "python": {
     "delete_cmd_postfix": "",
     "delete_cmd_prefix": "del ",
     "library": "var_list.py",
     "varRefreshCmd": "print(var_dic_list())"
    },
    "r": {
     "delete_cmd_postfix": ") ",
     "delete_cmd_prefix": "rm(",
     "library": "var_list.r",
     "varRefreshCmd": "cat(var_dic_list()) "
    }
   },
   "types_to_exclude": [
    "module",
    "function",
    "builtin_function_or_method",
    "instance",
    "_Feature"
   ],
   "window_display": false
  }
 },
 "nbformat": 4,
 "nbformat_minor": 5
}
